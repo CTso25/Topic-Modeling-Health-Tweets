{
 "cells": [
  {
   "cell_type": "code",
   "execution_count": 2,
   "metadata": {},
   "outputs": [],
   "source": [
    "import pandas as pd\n",
    "import numpy as np\n",
    "import matplotlib.pyplot as plt\n",
    "import seaborn as sns\n",
    "import sklearn\n",
    "import re\n",
    "import nltk\n",
    "import tqdm\n",
    "\n",
    "\n",
    "from nltk.tokenize import RegexpTokenizer\n",
    "from nltk.corpus import stopwords\n",
    "from nltk.stem import WordNetLemmatizer\n",
    "from tqdm.notebook import trange, tqdm"
   ]
  },
  {
   "cell_type": "code",
   "execution_count": 3,
   "metadata": {},
   "outputs": [],
   "source": [
    "tweets_df = pd.read_csv('../input/health_tweets.csv')"
   ]
  },
  {
   "cell_type": "code",
   "execution_count": 36,
   "metadata": {},
   "outputs": [
    {
     "data": {
      "text/html": [
       "<div>\n",
       "<style scoped>\n",
       "    .dataframe tbody tr th:only-of-type {\n",
       "        vertical-align: middle;\n",
       "    }\n",
       "\n",
       "    .dataframe tbody tr th {\n",
       "        vertical-align: top;\n",
       "    }\n",
       "\n",
       "    .dataframe thead th {\n",
       "        text-align: right;\n",
       "    }\n",
       "</style>\n",
       "<table border=\"1\" class=\"dataframe\">\n",
       "  <thead>\n",
       "    <tr style=\"text-align: right;\">\n",
       "      <th></th>\n",
       "      <th>username</th>\n",
       "      <th>tweet</th>\n",
       "    </tr>\n",
       "  </thead>\n",
       "  <tbody>\n",
       "    <tr>\n",
       "      <th>0</th>\n",
       "      <td>bbchealth</td>\n",
       "      <td>How the UK’s coronavirus epidemic compares to ...</td>\n",
       "    </tr>\n",
       "    <tr>\n",
       "      <th>1</th>\n",
       "      <td>bbchealth</td>\n",
       "      <td>Health workers on frontline to be tested in En...</td>\n",
       "    </tr>\n",
       "    <tr>\n",
       "      <th>2</th>\n",
       "      <td>bbchealth</td>\n",
       "      <td>Coronavirus: Protective gear guidance 'to be u...</td>\n",
       "    </tr>\n",
       "    <tr>\n",
       "      <th>3</th>\n",
       "      <td>bbchealth</td>\n",
       "      <td>Coronavirus: What are ventilators and why are ...</td>\n",
       "    </tr>\n",
       "    <tr>\n",
       "      <th>4</th>\n",
       "      <td>bbchealth</td>\n",
       "      <td>Coronavirus: 'Act early to save more than 30 m...</td>\n",
       "    </tr>\n",
       "  </tbody>\n",
       "</table>\n",
       "</div>"
      ],
      "text/plain": [
       "    username                                              tweet\n",
       "0  bbchealth  How the UK’s coronavirus epidemic compares to ...\n",
       "1  bbchealth  Health workers on frontline to be tested in En...\n",
       "2  bbchealth  Coronavirus: Protective gear guidance 'to be u...\n",
       "3  bbchealth  Coronavirus: What are ventilators and why are ...\n",
       "4  bbchealth  Coronavirus: 'Act early to save more than 30 m..."
      ]
     },
     "execution_count": 36,
     "metadata": {},
     "output_type": "execute_result"
    }
   ],
   "source": [
    "# create df of handle and tweet only to easily see how tweet is formatted\n",
    "simple_df  = tweets_df[['username', 'tweet']]\n",
    "simple_df.head() "
   ]
  },
  {
   "cell_type": "markdown",
   "metadata": {},
   "source": [
    "## Tweets before cleaning"
   ]
  },
  {
   "cell_type": "code",
   "execution_count": 60,
   "metadata": {},
   "outputs": [],
   "source": [
    "sample = simple_df.sample(n=10, random_state = 0) "
   ]
  },
  {
   "cell_type": "code",
   "execution_count": 61,
   "metadata": {},
   "outputs": [
    {
     "data": {
      "text/html": [
       "<style  type=\"text/css\" >\n",
       "    #T_fbf7ce74_72be_11ea_b559_4889e781ca1crow0_col1 {\n",
       "            width:  500px;\n",
       "        }    #T_fbf7ce74_72be_11ea_b559_4889e781ca1crow1_col1 {\n",
       "            width:  500px;\n",
       "        }    #T_fbf7ce74_72be_11ea_b559_4889e781ca1crow2_col1 {\n",
       "            width:  500px;\n",
       "        }    #T_fbf7ce74_72be_11ea_b559_4889e781ca1crow3_col1 {\n",
       "            width:  500px;\n",
       "        }    #T_fbf7ce74_72be_11ea_b559_4889e781ca1crow4_col1 {\n",
       "            width:  500px;\n",
       "        }    #T_fbf7ce74_72be_11ea_b559_4889e781ca1crow5_col1 {\n",
       "            width:  500px;\n",
       "        }    #T_fbf7ce74_72be_11ea_b559_4889e781ca1crow6_col1 {\n",
       "            width:  500px;\n",
       "        }    #T_fbf7ce74_72be_11ea_b559_4889e781ca1crow7_col1 {\n",
       "            width:  500px;\n",
       "        }    #T_fbf7ce74_72be_11ea_b559_4889e781ca1crow8_col1 {\n",
       "            width:  500px;\n",
       "        }    #T_fbf7ce74_72be_11ea_b559_4889e781ca1crow9_col1 {\n",
       "            width:  500px;\n",
       "        }</style><table id=\"T_fbf7ce74_72be_11ea_b559_4889e781ca1c\" ><thead>    <tr>        <th class=\"blank level0\" ></th>        <th class=\"col_heading level0 col0\" >username</th>        <th class=\"col_heading level0 col1\" >tweet</th>    </tr></thead><tbody>\n",
       "                <tr>\n",
       "                        <th id=\"T_fbf7ce74_72be_11ea_b559_4889e781ca1clevel0_row0\" class=\"row_heading level0 row0\" >72711</th>\n",
       "                        <td id=\"T_fbf7ce74_72be_11ea_b559_4889e781ca1crow0_col0\" class=\"data row0 col0\" >goodhealth</td>\n",
       "                        <td id=\"T_fbf7ce74_72be_11ea_b559_4889e781ca1crow0_col1\" class=\"data row0 col1\" >Cauliflower fried rice with veggies is a colorful, delicious meal to whip up anytime:  https://trib.al/nYpZHZc  pic.twitter.com/a2DSuRttYu</td>\n",
       "            </tr>\n",
       "            <tr>\n",
       "                        <th id=\"T_fbf7ce74_72be_11ea_b559_4889e781ca1clevel0_row1\" class=\"row_heading level0 row1\" >140746</th>\n",
       "                        <td id=\"T_fbf7ce74_72be_11ea_b559_4889e781ca1crow1_col0\" class=\"data row1 col0\" >NYTHealth</td>\n",
       "                        <td id=\"T_fbf7ce74_72be_11ea_b559_4889e781ca1crow1_col1\" class=\"data row1 col1\" >Tiger Woods' bionic spine is something of a medical miracle. https://nyti.ms/2HrW5b2 </td>\n",
       "            </tr>\n",
       "            <tr>\n",
       "                        <th id=\"T_fbf7ce74_72be_11ea_b559_4889e781ca1clevel0_row2\" class=\"row_heading level0 row2\" >1946</th>\n",
       "                        <td id=\"T_fbf7ce74_72be_11ea_b559_4889e781ca1crow2_col0\" class=\"data row2 col0\" >bbchealth</td>\n",
       "                        <td id=\"T_fbf7ce74_72be_11ea_b559_4889e781ca1crow2_col1\" class=\"data row2 col1\" >Mother's Asperger's poem strikes a chord on social media http://bbc.in/2BTRD3u </td>\n",
       "            </tr>\n",
       "            <tr>\n",
       "                        <th id=\"T_fbf7ce74_72be_11ea_b559_4889e781ca1clevel0_row3\" class=\"row_heading level0 row3\" >113570</th>\n",
       "                        <td id=\"T_fbf7ce74_72be_11ea_b559_4889e781ca1crow3_col0\" class=\"data row3 col0\" >NBCNewsHealth</td>\n",
       "                        <td id=\"T_fbf7ce74_72be_11ea_b559_4889e781ca1crow3_col1\" class=\"data row3 col1\" >What causes healthy young mothers to have a heart attack?  http://nbcnews.to/2id6xoL </td>\n",
       "            </tr>\n",
       "            <tr>\n",
       "                        <th id=\"T_fbf7ce74_72be_11ea_b559_4889e781ca1clevel0_row4\" class=\"row_heading level0 row4\" >20827</th>\n",
       "                        <td id=\"T_fbf7ce74_72be_11ea_b559_4889e781ca1crow4_col0\" class=\"data row4 col0\" >cnnhealth</td>\n",
       "                        <td id=\"T_fbf7ce74_72be_11ea_b559_4889e781ca1crow4_col1\" class=\"data row4 col1\" >U.S. schools: Still separate and unequal\n",
       " http://cnn.it/1UDZ2oT  pic.twitter.com/OGsWHKL0Kq</td>\n",
       "            </tr>\n",
       "            <tr>\n",
       "                        <th id=\"T_fbf7ce74_72be_11ea_b559_4889e781ca1clevel0_row5\" class=\"row_heading level0 row5\" >95010</th>\n",
       "                        <td id=\"T_fbf7ce74_72be_11ea_b559_4889e781ca1crow5_col0\" class=\"data row5 col0\" >KHNews</td>\n",
       "                        <td id=\"T_fbf7ce74_72be_11ea_b559_4889e781ca1crow5_col1\" class=\"data row5 col1\" >Suicide rates in the U.S. have risen nearly 30 percent since 1999.  http://ow.ly/6G1l30konQC  via @LizSzabo</td>\n",
       "            </tr>\n",
       "            <tr>\n",
       "                        <th id=\"T_fbf7ce74_72be_11ea_b559_4889e781ca1clevel0_row6\" class=\"row_heading level0 row6\" >108908</th>\n",
       "                        <td id=\"T_fbf7ce74_72be_11ea_b559_4889e781ca1crow6_col0\" class=\"data row6 col0\" >NBCNewsHealth</td>\n",
       "                        <td id=\"T_fbf7ce74_72be_11ea_b559_4889e781ca1crow6_col1\" class=\"data row6 col1\" >When it comes to vaccines, celebrities often call the shots https://nbcnews.to/2Jldpis </td>\n",
       "            </tr>\n",
       "            <tr>\n",
       "                        <th id=\"T_fbf7ce74_72be_11ea_b559_4889e781ca1clevel0_row7\" class=\"row_heading level0 row7\" >99210</th>\n",
       "                        <td id=\"T_fbf7ce74_72be_11ea_b559_4889e781ca1crow7_col0\" class=\"data row7 col0\" >KHNews</td>\n",
       "                        <td id=\"T_fbf7ce74_72be_11ea_b559_4889e781ca1crow7_col1\" class=\"data row7 col1\" >Single-Payer Health Care On Colorado Ballot In 2016  http://khne.ws/39hOFb </td>\n",
       "            </tr>\n",
       "            <tr>\n",
       "                        <th id=\"T_fbf7ce74_72be_11ea_b559_4889e781ca1clevel0_row8\" class=\"row_heading level0 row8\" >102640</th>\n",
       "                        <td id=\"T_fbf7ce74_72be_11ea_b559_4889e781ca1crow8_col0\" class=\"data row8 col0\" >latimeshealth</td>\n",
       "                        <td id=\"T_fbf7ce74_72be_11ea_b559_4889e781ca1crow8_col1\" class=\"data row8 col1\" >New guidelines advise more women to consider testing for breast cancer gene risk https://lat.ms/2Helcio </td>\n",
       "            </tr>\n",
       "            <tr>\n",
       "                        <th id=\"T_fbf7ce74_72be_11ea_b559_4889e781ca1clevel0_row9\" class=\"row_heading level0 row9\" >33072</th>\n",
       "                        <td id=\"T_fbf7ce74_72be_11ea_b559_4889e781ca1crow9_col0\" class=\"data row9 col0\" >EverydayHealth</td>\n",
       "                        <td id=\"T_fbf7ce74_72be_11ea_b559_4889e781ca1crow9_col1\" class=\"data row9 col1\" >Be aware! People taking these medicines and drugs are at a 30 percent increased risk of dementia:  https://trib.al/B9Z3G2L  pic.twitter.com/8uCvFTeSiW</td>\n",
       "            </tr>\n",
       "    </tbody></table>"
      ],
      "text/plain": [
       "<pandas.io.formats.style.Styler at 0x246805df088>"
      ]
     },
     "execution_count": 61,
     "metadata": {},
     "output_type": "execute_result"
    }
   ],
   "source": [
    "sample.style.set_properties(subset=['tweet'], **{'width': '500px'})"
   ]
  },
  {
   "cell_type": "code",
   "execution_count": 14,
   "metadata": {},
   "outputs": [],
   "source": [
    "# functions for removing links and user info\n",
    "def remove_links(tweet):\n",
    "    '''Takes a string and removes web links from it'''\n",
    "    tweet = re.sub(r'http\\S+', '', tweet)   # remove http links\n",
    "    tweet = re.sub(r'bit.ly/\\S+', '', tweet) # remove bitly links\n",
    "    tweet = tweet.strip('[link]')   # remove [links]\n",
    "    tweet = re.sub(r'pic.twitter\\S+','', tweet)\n",
    "    return tweet\n",
    "\n",
    "def remove_users(tweet):\n",
    "    '''Takes a string and removes retween and @user information'''\n",
    "    tweet = re.sub('(RT\\s@[A-Za-z]+[A-Za-z0-9-_]+)', '', tweet) # remove retweet\n",
    "    tweet = re.sub('(@[A-Za-z]+[A-Za-z0-9-_]+)', '', tweet) # remove tweeted at\n",
    "    return tweet\n"
   ]
  },
  {
   "cell_type": "markdown",
   "metadata": {},
   "source": [
    "### Using Stemming for data cleaning"
   ]
  },
  {
   "cell_type": "code",
   "execution_count": 28,
   "metadata": {},
   "outputs": [
    {
     "name": "stderr",
     "output_type": "stream",
     "text": [
      "[nltk_data] Downloading package stopwords to\n",
      "[nltk_data]     C:\\Users\\bicaj\\AppData\\Roaming\\nltk_data...\n",
      "[nltk_data]   Unzipping corpora\\stopwords.zip.\n"
     ]
    },
    {
     "data": {
      "text/plain": [
       "True"
      ]
     },
     "execution_count": 28,
     "metadata": {},
     "output_type": "execute_result"
    }
   ],
   "source": [
    "nltk.download('stopwords')"
   ]
  },
  {
   "cell_type": "code",
   "execution_count": 54,
   "metadata": {},
   "outputs": [],
   "source": [
    "stopwords = nltk.corpus.stopwords.words('english')\n",
    "# word_rooter = nltk.stem.snowball.PorterStemmer(ignore_stopwords=False).stem\n",
    "punctuation = '!\"$%&\\'()*+,-./:;<=>?[\\\\]^_`{|}~•@'         # define a string of punctuation symbols\n",
    "\n",
    "# main function to clean tweet\n",
    "def clean_tweet(tweet, bigrams=False):  # master function to clean tweet\n",
    "    tweet = remove_users(tweet)\n",
    "    tweet = remove_links(tweet)\n",
    "    tweet = tweet.lower() # lower case\n",
    "    tweet = re.sub('['+punctuation + ']+', ' ', tweet) # strip punctuation\n",
    "    tweet = re.sub('\\s+', ' ', tweet) #remove double spacing\n",
    "    tweet = re.sub('([0-9]+)', '', tweet) # remove numbers\n",
    "    tweet_token_list = [word for word in tweet.split(' ')\n",
    "                            if word not in stopwords] # remove stopwords\n",
    "#     tweet_token_list = [word_rooter(word) if '#' not in word else word\n",
    "#                         for word in tweet_token_list] # apply word rooter\n",
    "    if bigrams:\n",
    "        tweet_token_list = tweet_token_list+[tweet_token_list[i]+'_'+tweet_token_list[i+1]\n",
    "                                            for i in range(len(tweet_token_list)-1)]\n",
    "    tweet = ' '.join(tweet_token_list)\n",
    "    return tweet\n"
   ]
  },
  {
   "cell_type": "code",
   "execution_count": 81,
   "metadata": {},
   "outputs": [],
   "source": [
    "simple_clean_df_stem = simple_df.tweet.apply(clean_tweet).to_frame()"
   ]
  },
  {
   "cell_type": "markdown",
   "metadata": {},
   "source": [
    "#### Tweets after cleaning (stemming)"
   ]
  },
  {
   "cell_type": "code",
   "execution_count": 85,
   "metadata": {},
   "outputs": [],
   "source": [
    "sample_clean_stem = simple_clean_df_stem.sample(n=10, random_state=0)"
   ]
  },
  {
   "cell_type": "code",
   "execution_count": 86,
   "metadata": {},
   "outputs": [
    {
     "data": {
      "text/html": [
       "<style  type=\"text/css\" >\n",
       "    #T_61ac8590_72c3_11ea_9329_4889e781ca1crow0_col0 {\n",
       "            width:  500px;\n",
       "        }    #T_61ac8590_72c3_11ea_9329_4889e781ca1crow1_col0 {\n",
       "            width:  500px;\n",
       "        }    #T_61ac8590_72c3_11ea_9329_4889e781ca1crow2_col0 {\n",
       "            width:  500px;\n",
       "        }    #T_61ac8590_72c3_11ea_9329_4889e781ca1crow3_col0 {\n",
       "            width:  500px;\n",
       "        }    #T_61ac8590_72c3_11ea_9329_4889e781ca1crow4_col0 {\n",
       "            width:  500px;\n",
       "        }    #T_61ac8590_72c3_11ea_9329_4889e781ca1crow5_col0 {\n",
       "            width:  500px;\n",
       "        }    #T_61ac8590_72c3_11ea_9329_4889e781ca1crow6_col0 {\n",
       "            width:  500px;\n",
       "        }    #T_61ac8590_72c3_11ea_9329_4889e781ca1crow7_col0 {\n",
       "            width:  500px;\n",
       "        }    #T_61ac8590_72c3_11ea_9329_4889e781ca1crow8_col0 {\n",
       "            width:  500px;\n",
       "        }    #T_61ac8590_72c3_11ea_9329_4889e781ca1crow9_col0 {\n",
       "            width:  500px;\n",
       "        }</style><table id=\"T_61ac8590_72c3_11ea_9329_4889e781ca1c\" ><thead>    <tr>        <th class=\"blank level0\" ></th>        <th class=\"col_heading level0 col0\" >tweet</th>    </tr></thead><tbody>\n",
       "                <tr>\n",
       "                        <th id=\"T_61ac8590_72c3_11ea_9329_4889e781ca1clevel0_row0\" class=\"row_heading level0 row0\" >72711</th>\n",
       "                        <td id=\"T_61ac8590_72c3_11ea_9329_4889e781ca1crow0_col0\" class=\"data row0 col0\" >cauliflower fry rice veggies colorful delicious meal whip anytime</td>\n",
       "            </tr>\n",
       "            <tr>\n",
       "                        <th id=\"T_61ac8590_72c3_11ea_9329_4889e781ca1clevel0_row1\" class=\"row_heading level0 row1\" >140746</th>\n",
       "                        <td id=\"T_61ac8590_72c3_11ea_9329_4889e781ca1crow1_col0\" class=\"data row1 col0\" >tiger woods bionic spine medical miracle</td>\n",
       "            </tr>\n",
       "            <tr>\n",
       "                        <th id=\"T_61ac8590_72c3_11ea_9329_4889e781ca1clevel0_row2\" class=\"row_heading level0 row2\" >1946</th>\n",
       "                        <td id=\"T_61ac8590_72c3_11ea_9329_4889e781ca1crow2_col0\" class=\"data row2 col0\" >mother asperger poem strike chord social media</td>\n",
       "            </tr>\n",
       "            <tr>\n",
       "                        <th id=\"T_61ac8590_72c3_11ea_9329_4889e781ca1clevel0_row3\" class=\"row_heading level0 row3\" >113570</th>\n",
       "                        <td id=\"T_61ac8590_72c3_11ea_9329_4889e781ca1crow3_col0\" class=\"data row3 col0\" >cause healthy young mother heart attack</td>\n",
       "            </tr>\n",
       "            <tr>\n",
       "                        <th id=\"T_61ac8590_72c3_11ea_9329_4889e781ca1clevel0_row4\" class=\"row_heading level0 row4\" >20827</th>\n",
       "                        <td id=\"T_61ac8590_72c3_11ea_9329_4889e781ca1crow4_col0\" class=\"data row4 col0\" >school separate unequal</td>\n",
       "            </tr>\n",
       "            <tr>\n",
       "                        <th id=\"T_61ac8590_72c3_11ea_9329_4889e781ca1clevel0_row5\" class=\"row_heading level0 row5\" >95010</th>\n",
       "                        <td id=\"T_61ac8590_72c3_11ea_9329_4889e781ca1crow5_col0\" class=\"data row5 col0\" >suicide rat rise nearly percent</td>\n",
       "            </tr>\n",
       "            <tr>\n",
       "                        <th id=\"T_61ac8590_72c3_11ea_9329_4889e781ca1clevel0_row6\" class=\"row_heading level0 row6\" >108908</th>\n",
       "                        <td id=\"T_61ac8590_72c3_11ea_9329_4889e781ca1crow6_col0\" class=\"data row6 col0\" >come vaccines celebrities shots</td>\n",
       "            </tr>\n",
       "            <tr>\n",
       "                        <th id=\"T_61ac8590_72c3_11ea_9329_4889e781ca1clevel0_row7\" class=\"row_heading level0 row7\" >99210</th>\n",
       "                        <td id=\"T_61ac8590_72c3_11ea_9329_4889e781ca1crow7_col0\" class=\"data row7 col0\" >single payer health care colorado ballot</td>\n",
       "            </tr>\n",
       "            <tr>\n",
       "                        <th id=\"T_61ac8590_72c3_11ea_9329_4889e781ca1clevel0_row8\" class=\"row_heading level0 row8\" >102640</th>\n",
       "                        <td id=\"T_61ac8590_72c3_11ea_9329_4889e781ca1crow8_col0\" class=\"data row8 col0\" >guidelines advise women consider test breast cancer gene risk</td>\n",
       "            </tr>\n",
       "            <tr>\n",
       "                        <th id=\"T_61ac8590_72c3_11ea_9329_4889e781ca1clevel0_row9\" class=\"row_heading level0 row9\" >33072</th>\n",
       "                        <td id=\"T_61ac8590_72c3_11ea_9329_4889e781ca1crow9_col0\" class=\"data row9 col0\" >aware people take medicine drug percent increase risk dementia</td>\n",
       "            </tr>\n",
       "    </tbody></table>"
      ],
      "text/plain": [
       "<pandas.io.formats.style.Styler at 0x246904a9c88>"
      ]
     },
     "execution_count": 86,
     "metadata": {},
     "output_type": "execute_result"
    }
   ],
   "source": [
    "sample_clean_stem.style.set_properties(subset=['tweet'], **{'width': '500px'})"
   ]
  },
  {
   "cell_type": "markdown",
   "metadata": {},
   "source": [
    "### Using Lemmatization for data cleaning"
   ]
  },
  {
   "cell_type": "code",
   "execution_count": 76,
   "metadata": {},
   "outputs": [
    {
     "name": "stderr",
     "output_type": "stream",
     "text": [
      "[nltk_data] Downloading package wordnet to\n",
      "[nltk_data]     C:\\Users\\bicaj\\AppData\\Roaming\\nltk_data...\n",
      "[nltk_data]   Unzipping corpora\\wordnet.zip.\n"
     ]
    },
    {
     "data": {
      "text/plain": [
       "True"
      ]
     },
     "execution_count": 76,
     "metadata": {},
     "output_type": "execute_result"
    }
   ],
   "source": [
    "nltk.download('wordnet')"
   ]
  },
  {
   "cell_type": "code",
   "execution_count": 83,
   "metadata": {},
   "outputs": [],
   "source": [
    "import gensim\n",
    "stopwords = nltk.corpus.stopwords.words('english')\n",
    "punctuation = '!\"$%&\\'()*+,-./:;<=>?[\\\\]^_`{|}~•@'         # define a string of punctuation symbols\n",
    "\n",
    "## functions leveraged from https://towardsdatascience.com/nlp-extracting-the-main-topics-from-your-dataset-using-lda-in-minutes-21486f5aa925\n",
    "\n",
    "def lemmatize_stemming(tweet):\n",
    "    return WordNetLemmatizer().lemmatize(tweet, pos='v')\n",
    "\n",
    "# tokenize and lemmatize\n",
    "def lemmatize(tweet):\n",
    "    result=[]\n",
    "    for token in gensim.utils.simple_preprocess(tweet):\n",
    "        if token not in gensim.parsing.preprocessing.STOPWORDS and len(token) > 3:   # drops words with 3 or less characters\n",
    "            result.append(lemmatize_stemming(token))\n",
    "    return result\n",
    "\n",
    "def clean_tweet(tweet, bigrams=False):   # master function to clean tweet\n",
    "    tweet = remove_users(tweet)\n",
    "    tweet = remove_links(tweet)\n",
    "    tweet = tweet.lower() # lower case\n",
    "    tweet = re.sub('['+punctuation + ']+', ' ', tweet) # strip punctuation\n",
    "    tweet = re.sub('\\s+', ' ', tweet) #remove double spacing\n",
    "    tweet = re.sub('([0-9]+)', '', tweet) # remove numbers\n",
    "    \n",
    "    tweet_token_list = lemmatize(tweet)  # apply lemmatization and tokenization\n",
    "\n",
    "    if bigrams:\n",
    "        tweet_token_list = tweet_token_list+[tweet_token_list[i]+'_'+tweet_token_list[i+1]\n",
    "                                            for i in range(len(tweet_token_list)-1)]\n",
    "    tweet = ' '.join(tweet_token_list)\n",
    "    return tweet\n",
    "\n",
    "\n"
   ]
  },
  {
   "cell_type": "code",
   "execution_count": 84,
   "metadata": {},
   "outputs": [],
   "source": [
    "simple_clean_df_lemma = simple_df.tweet.apply(clean_tweet).to_frame()  "
   ]
  },
  {
   "cell_type": "markdown",
   "metadata": {},
   "source": [
    "#### Tweets after cleaning (lemmatization)"
   ]
  },
  {
   "cell_type": "code",
   "execution_count": 87,
   "metadata": {},
   "outputs": [],
   "source": [
    "sample_clean_lemma = simple_clean_df_lemma.sample(n=10, random_state=0)"
   ]
  },
  {
   "cell_type": "code",
   "execution_count": 88,
   "metadata": {},
   "outputs": [
    {
     "data": {
      "text/html": [
       "<style  type=\"text/css\" >\n",
       "    #T_6c389e10_72c3_11ea_90d6_4889e781ca1crow0_col0 {\n",
       "            width:  500px;\n",
       "        }    #T_6c389e10_72c3_11ea_90d6_4889e781ca1crow1_col0 {\n",
       "            width:  500px;\n",
       "        }    #T_6c389e10_72c3_11ea_90d6_4889e781ca1crow2_col0 {\n",
       "            width:  500px;\n",
       "        }    #T_6c389e10_72c3_11ea_90d6_4889e781ca1crow3_col0 {\n",
       "            width:  500px;\n",
       "        }    #T_6c389e10_72c3_11ea_90d6_4889e781ca1crow4_col0 {\n",
       "            width:  500px;\n",
       "        }    #T_6c389e10_72c3_11ea_90d6_4889e781ca1crow5_col0 {\n",
       "            width:  500px;\n",
       "        }    #T_6c389e10_72c3_11ea_90d6_4889e781ca1crow6_col0 {\n",
       "            width:  500px;\n",
       "        }    #T_6c389e10_72c3_11ea_90d6_4889e781ca1crow7_col0 {\n",
       "            width:  500px;\n",
       "        }    #T_6c389e10_72c3_11ea_90d6_4889e781ca1crow8_col0 {\n",
       "            width:  500px;\n",
       "        }    #T_6c389e10_72c3_11ea_90d6_4889e781ca1crow9_col0 {\n",
       "            width:  500px;\n",
       "        }</style><table id=\"T_6c389e10_72c3_11ea_90d6_4889e781ca1c\" ><thead>    <tr>        <th class=\"blank level0\" ></th>        <th class=\"col_heading level0 col0\" >tweet</th>    </tr></thead><tbody>\n",
       "                <tr>\n",
       "                        <th id=\"T_6c389e10_72c3_11ea_90d6_4889e781ca1clevel0_row0\" class=\"row_heading level0 row0\" >72711</th>\n",
       "                        <td id=\"T_6c389e10_72c3_11ea_90d6_4889e781ca1crow0_col0\" class=\"data row0 col0\" >cauliflower fry rice veggies colorful delicious meal whip anytime</td>\n",
       "            </tr>\n",
       "            <tr>\n",
       "                        <th id=\"T_6c389e10_72c3_11ea_90d6_4889e781ca1clevel0_row1\" class=\"row_heading level0 row1\" >140746</th>\n",
       "                        <td id=\"T_6c389e10_72c3_11ea_90d6_4889e781ca1crow1_col0\" class=\"data row1 col0\" >tiger woods bionic spine medical miracle</td>\n",
       "            </tr>\n",
       "            <tr>\n",
       "                        <th id=\"T_6c389e10_72c3_11ea_90d6_4889e781ca1clevel0_row2\" class=\"row_heading level0 row2\" >1946</th>\n",
       "                        <td id=\"T_6c389e10_72c3_11ea_90d6_4889e781ca1crow2_col0\" class=\"data row2 col0\" >mother asperger poem strike chord social media</td>\n",
       "            </tr>\n",
       "            <tr>\n",
       "                        <th id=\"T_6c389e10_72c3_11ea_90d6_4889e781ca1clevel0_row3\" class=\"row_heading level0 row3\" >113570</th>\n",
       "                        <td id=\"T_6c389e10_72c3_11ea_90d6_4889e781ca1crow3_col0\" class=\"data row3 col0\" >cause healthy young mother heart attack</td>\n",
       "            </tr>\n",
       "            <tr>\n",
       "                        <th id=\"T_6c389e10_72c3_11ea_90d6_4889e781ca1clevel0_row4\" class=\"row_heading level0 row4\" >20827</th>\n",
       "                        <td id=\"T_6c389e10_72c3_11ea_90d6_4889e781ca1crow4_col0\" class=\"data row4 col0\" >school separate unequal</td>\n",
       "            </tr>\n",
       "            <tr>\n",
       "                        <th id=\"T_6c389e10_72c3_11ea_90d6_4889e781ca1clevel0_row5\" class=\"row_heading level0 row5\" >95010</th>\n",
       "                        <td id=\"T_6c389e10_72c3_11ea_90d6_4889e781ca1crow5_col0\" class=\"data row5 col0\" >suicide rat rise nearly percent</td>\n",
       "            </tr>\n",
       "            <tr>\n",
       "                        <th id=\"T_6c389e10_72c3_11ea_90d6_4889e781ca1clevel0_row6\" class=\"row_heading level0 row6\" >108908</th>\n",
       "                        <td id=\"T_6c389e10_72c3_11ea_90d6_4889e781ca1crow6_col0\" class=\"data row6 col0\" >come vaccines celebrities shots</td>\n",
       "            </tr>\n",
       "            <tr>\n",
       "                        <th id=\"T_6c389e10_72c3_11ea_90d6_4889e781ca1clevel0_row7\" class=\"row_heading level0 row7\" >99210</th>\n",
       "                        <td id=\"T_6c389e10_72c3_11ea_90d6_4889e781ca1crow7_col0\" class=\"data row7 col0\" >single payer health care colorado ballot</td>\n",
       "            </tr>\n",
       "            <tr>\n",
       "                        <th id=\"T_6c389e10_72c3_11ea_90d6_4889e781ca1clevel0_row8\" class=\"row_heading level0 row8\" >102640</th>\n",
       "                        <td id=\"T_6c389e10_72c3_11ea_90d6_4889e781ca1crow8_col0\" class=\"data row8 col0\" >guidelines advise women consider test breast cancer gene risk</td>\n",
       "            </tr>\n",
       "            <tr>\n",
       "                        <th id=\"T_6c389e10_72c3_11ea_90d6_4889e781ca1clevel0_row9\" class=\"row_heading level0 row9\" >33072</th>\n",
       "                        <td id=\"T_6c389e10_72c3_11ea_90d6_4889e781ca1crow9_col0\" class=\"data row9 col0\" >aware people take medicine drug percent increase risk dementia</td>\n",
       "            </tr>\n",
       "    </tbody></table>"
      ],
      "text/plain": [
       "<pandas.io.formats.style.Styler at 0x24681a247c8>"
      ]
     },
     "execution_count": 88,
     "metadata": {},
     "output_type": "execute_result"
    }
   ],
   "source": [
    "sample_clean_lemma.style.set_properties(subset=['tweet'], **{'width': '500px'})"
   ]
  },
  {
   "cell_type": "code",
   "execution_count": 89,
   "metadata": {},
   "outputs": [],
   "source": [
    "# ## alternate approach to cleaning tweet data\n",
    "# ## taken from https://towardsdatascience.com/topic-modeling-of-2019-hr-tech-conference-twitter-d16cf75895b6\n",
    "\n",
    "# from nltk.stem import WordNetLemmatizer\n",
    "# from nltk.corpus import stopwords, wordnet\n",
    "# import nltk\n",
    "\n",
    "# def get_wordnet_pos(word):\n",
    "#     \"\"\"\n",
    "#     Map POS tag to first character lemmatize() accepts\n",
    "#     \"\"\"\n",
    "#     tag = nltk.pos_tag([word])[0][1][0].upper()\n",
    "#     tag_dict = {\"J\": wordnet.ADJ,\n",
    "#                 \"N\": wordnet.NOUN,\n",
    "#                 \"V\": wordnet.VERB,\n",
    "#                 \"R\": wordnet.ADV}\n",
    "\n",
    "#     return tag_dict.get(tag, wordnet.NOUN)\n",
    "\n",
    "# text_clean = text.lower()\n",
    "# # Remove non-alphabet\n",
    "# text_clean = re.sub(r'[^a-zA-Z]|(\\w+:\\/\\/\\S+)',' ', text_clean).split()    \n",
    "# # Remove short words (length < 3)\n",
    "# text_clean = [w for w in text_clean if len(w)>2]\n",
    "# # Lemmatize text with the appropriate POS tag\n",
    "# lemmatizer = WordNetLemmatizer()\n",
    "# text_clean = [lemmatizer.lemmatize(w, get_wordnet_pos(w)) for w in text_clean]\n",
    "# # Filter out stop words in English \n",
    "# stops = set(stopwords.words('english')).union(additional_stop_words)\n",
    "# text_clean = [w for w in text_clean if w not in stops]"
   ]
  },
  {
   "cell_type": "code",
   "execution_count": null,
   "metadata": {},
   "outputs": [],
   "source": []
  }
 ],
 "metadata": {
  "kernelspec": {
   "display_name": "Python 3",
   "language": "python",
   "name": "python3"
  },
  "language_info": {
   "codemirror_mode": {
    "name": "ipython",
    "version": 3
   },
   "file_extension": ".py",
   "mimetype": "text/x-python",
   "name": "python",
   "nbconvert_exporter": "python",
   "pygments_lexer": "ipython3",
   "version": "3.7.4"
  }
 },
 "nbformat": 4,
 "nbformat_minor": 4
}
